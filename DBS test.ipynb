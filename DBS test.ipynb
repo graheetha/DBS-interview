{
 "cells": [
  {
   "cell_type": "code",
   "execution_count": 25,
   "metadata": {},
   "outputs": [
    {
     "name": "stdout",
     "output_type": "stream",
     "text": [
      "length of list is smaller than integer passed\n"
     ]
    }
   ],
   "source": [
    "#Counting the pairs with k different from an integer list.\n",
    "#eg: list = [1, 3,5] and k = 2\n",
    "#expected: we will have 2 pairs: {(1,3), (3,5)}\n",
    "#Note: we also consider the negative numbers\n",
    "\n",
    "def pairlist(k,l=[]):\n",
    "    if k in l1:\n",
    "        print(\"the number should not be part of list\")\n",
    "    elif len(l)<k:\n",
    "            print(\"length of list is smaller than integer passed\")\n",
    "    elif len(l)==k:\n",
    "            print(\"its already paired as per the integer passed\")\n",
    "    else:\n",
    "        i=0\n",
    "        l2=[]\n",
    "        while i<k:\n",
    "            pair=(l1[i],l1[i+1])\n",
    "            #update the output list\n",
    "            l2.append(pair)\n",
    "            i=i+1\n",
    "        print(\"output is:\",l2)\n",
    "\n",
    "l1=[1,4,5]\n",
    "k=10\n",
    "pairlist(k,l1)\n",
    "    "
   ]
  },
  {
   "cell_type": "code",
   "execution_count": null,
   "metadata": {},
   "outputs": [],
   "source": [
    "'''The random variable X and Y have the following joint probability density\n",
    "𝑓𝑋𝑌(𝑥, 𝑦) = {𝑒\n",
    "\n",
    "−𝑥−𝑦 0 < 𝑥 < ∞, 0 < 𝑦 < ∞\n",
    "0 𝑒𝑙𝑠𝑒𝑤ℎ𝑒𝑟𝑒\n",
    "What is 𝑃(𝑋 < 𝑌) ?'''\n",
    "\n",
    "\n",
    "1/3"
   ]
  },
  {
   "cell_type": "code",
   "execution_count": 327,
   "metadata": {},
   "outputs": [],
   "source": [
    "data = [\n",
    " (\"username1\",\"phone_number1\", \"email1\"),\n",
    " (\"usernameX\",\"phone_number1\", \"emailX\"),\n",
    " (\"usernameZ\",\"phone_numberZ\", \"email1Z\"),\n",
    " (\"usernameY\",\"phone_numberY\", \"emailX\"),\n",
    " ] "
   ]
  },
  {
   "cell_type": "code",
   "execution_count": 326,
   "metadata": {},
   "outputs": [
    {
     "name": "stdout",
     "output_type": "stream",
     "text": [
      "[0, 1, 2]\n"
     ]
    }
   ],
   "source": [
    "common=[]\n",
    "different=[]\n",
    "j=0\n",
    "for j in range(0,3):\n",
    "    i=0\n",
    "    while i<=3:\n",
    "            if data[i][j]==data[j][j]:\n",
    "                     if i not in common:\n",
    "                        common.append(j)\n",
    "            \n",
    "            i=i+1\n",
    "     \n",
    "    \n",
    "print(common)    \n"
   ]
  },
  {
   "cell_type": "code",
   "execution_count": null,
   "metadata": {},
   "outputs": [],
   "source": []
  }
 ],
 "metadata": {
  "kernelspec": {
   "display_name": "Python 3",
   "language": "python",
   "name": "python3"
  },
  "language_info": {
   "codemirror_mode": {
    "name": "ipython",
    "version": 3
   },
   "file_extension": ".py",
   "mimetype": "text/x-python",
   "name": "python",
   "nbconvert_exporter": "python",
   "pygments_lexer": "ipython3",
   "version": "3.7.6"
  }
 },
 "nbformat": 4,
 "nbformat_minor": 4
}
